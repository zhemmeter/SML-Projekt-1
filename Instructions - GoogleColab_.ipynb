{
 "cells": [
  {
   "cell_type": "markdown",
   "metadata": {
    "id": "mJrS_Yq-kZmp"
   },
   "source": [
    "# Running SML Project 1 on Google Colab"
   ]
  },
  {
   "cell_type": "markdown",
   "metadata": {
    "id": "ZhqpmiobkSTX"
   },
   "source": [
    "This is the interface to run the code on Google Colab. You will still need to implement your code in `main.py`. You can also add other files if you need to."
   ]
  },
  {
   "cell_type": "markdown",
   "metadata": {
    "id": "9572OFbsXWV0"
   },
   "source": [
    "## Initialization"
   ]
  },
  {
   "cell_type": "code",
   "execution_count": 3,
   "metadata": {
    "colab": {
     "base_uri": "https://localhost:8080/"
    },
    "id": "jckwdSibXNcK",
    "executionInfo": {
     "status": "ok",
     "timestamp": 1743634912585,
     "user_tz": -120,
     "elapsed": 3499,
     "user": {
      "displayName": "Cui Peng",
      "userId": "10296820786652687098"
     }
    },
    "outputId": "ded4d980-1950-4cbb-c847-25d793e8bca5"
   },
   "outputs": [
    {
     "output_type": "stream",
     "name": "stdout",
     "text": [
      "The autoreload extension is already loaded. To reload it, use:\n",
      "  %reload_ext autoreload\n",
      "Mounted at /content/drive\n"
     ]
    }
   ],
   "source": [
    "%load_ext autoreload\n",
    "%autoreload 2\n",
    "\n",
    "from google.colab import drive\n",
    "drive.mount('/content/drive')"
   ]
  },
  {
   "cell_type": "markdown",
   "metadata": {
    "id": "vddzQYN6Xd6v"
   },
   "source": [
    " Go to the folder in Google drive where you uploaded the code and data.\n",
    "\n",
    " For example, if you upload the project1 folder to your google drive under My Drive, you can access the files in your google drive by:"
   ]
  },
  {
   "cell_type": "code",
   "execution_count": null,
   "metadata": {
    "colab": {
     "base_uri": "https://localhost:8080/"
    },
    "executionInfo": {
     "elapsed": 43,
     "status": "ok",
     "timestamp": 1743633950035,
     "user": {
      "displayName": "Cui Peng",
      "userId": "10296820786652687098"
     },
     "user_tz": -120
    },
    "id": "UjKyty45XleG",
    "outputId": "3aad5dd3-b71a-4fe7-84d4-727ad4f0d2e3"
   },
   "outputs": [
    {
     "name": "stdout",
     "output_type": "stream",
     "text": [
      "/content/drive/MyDrive/project1\n"
     ]
    }
   ],
   "source": [
    "%cd /content/drive/MyDrive/project1"
   ]
  },
  {
   "cell_type": "markdown",
   "metadata": {
    "id": "SZg0EBwri214"
   },
   "source": [
    "If you have zipped the dataset before uploading, make sure to unzip it by running the following command and adjust the path if needed."
   ]
  },
  {
   "cell_type": "code",
   "execution_count": null,
   "metadata": {
    "id": "frCr30lgjAwc"
   },
   "outputs": [],
   "source": [
    "!unzip /content/drive/MyDrive/projet1/data.zip -d data/"
   ]
  },
  {
   "cell_type": "markdown",
   "metadata": {
    "id": "rGXaQOdqjOLt"
   },
   "source": [
    "## Running\n",
    "Implement your solution in `main.py`, including model training, evaluation, and finally saving your predictions to a csv file."
   ]
  },
  {
   "cell_type": "code",
   "execution_count": null,
   "metadata": {
    "id": "hzv63v5WYDT2"
   },
   "outputs": [],
   "source": [
    "!python main.py"
   ]
  }
 ],
 "metadata": {
  "colab": {
   "provenance": []
  },
  "kernelspec": {
   "display_name": "Python 3",
   "name": "python3"
  },
  "language_info": {
   "name": "python"
  }
 },
 "nbformat": 4,
 "nbformat_minor": 0
}
